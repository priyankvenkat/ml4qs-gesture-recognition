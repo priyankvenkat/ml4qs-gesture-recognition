{
 "cells": [
  {
   "cell_type": "code",
   "execution_count": 42,
   "id": "22daa519-7043-4487-a19e-dd1ab180867f",
   "metadata": {},
   "outputs": [],
   "source": [
    "import pandas as pd\n",
    "import numpy as np\n",
    "import matplotlib.pyplot as plt\n",
    "import seaborn as sns\n",
    "import os\n",
    "\n",
    "import keras_tuner as kt\n",
    "import tensorflow as tf\n",
    "from tensorflow import keras\n",
    "from keras.models import Sequential\n",
    "from keras.layers import Dense\n",
    "from keras.layers import LSTM\n",
    "from keras.layers import Dropout\n",
    "\n",
    "from sklearn.svm import SVC\n",
    "from sklearn.metrics import classification_report, f1_score, precision_score, recall_score, accuracy_score, confusion_matrix\n",
    "from sklearn.preprocessing import LabelEncoder, StandardScaler\n",
    "from sklearn.model_selection import train_test_split\n",
    "from tensorflow.keras.callbacks import EarlyStopping\n",
    "from scipy.fft import fft\n",
    "\n"
   ]
  },
  {
   "cell_type": "code",
   "execution_count": 25,
   "id": "8780d85a",
   "metadata": {},
   "outputs": [],
   "source": [
    "# Loading the training datasets\n",
    "accelerometer_train_data = pd.read_csv('/home/mzero/main/uni_repo/machine_learning_fqs_2024/ml4qs-gesture-recognition/Combined_100min_data/Combined_accelerometer_100min_with_lowpass.csv')\n",
    "gyroscope_train_data = pd.read_csv('/home/mzero/main/uni_repo/machine_learning_fqs_2024/ml4qs-gesture-recognition/Combined_100min_data/Combined_gyroscope_100min_with_lowpass.csv')\n",
    "linear_accelerometer_train_data = pd.read_csv('/home/mzero/main/uni_repo/machine_learning_fqs_2024/ml4qs-gesture-recognition/Combined_100min_data/Combined_linear_accelerometer_100min_with_lowpass.csv')\n",
    "magnetometer_train_data = pd.read_csv('/home/mzero/main/uni_repo/machine_learning_fqs_2024/ml4qs-gesture-recognition/Combined_100min_data/Combined_magnetometer_100min_with_lowpass.csv')"
   ]
  },
  {
   "cell_type": "code",
   "execution_count": 26,
   "id": "961181c7",
   "metadata": {},
   "outputs": [],
   "source": [
    "# Loading the test datasets\n",
    "accelerometer_test_data = pd.read_csv('/home/mzero/main/uni_repo/machine_learning_fqs_2024/ml4qs-gesture-recognition/Combined_40min_test/Combined_accelerometer_40min_with_lowpass.csv')\n",
    "gyroscope_test_data = pd.read_csv('/home/mzero/main/uni_repo/machine_learning_fqs_2024/ml4qs-gesture-recognition/Combined_40min_test/Combined_gyroscope_40min_with_lowpass.csv')\n",
    "linear_accelerometer_test_data = pd.read_csv('/home/mzero/main/uni_repo/machine_learning_fqs_2024/ml4qs-gesture-recognition/Combined_40min_test/Combined_linear_accelerometer_40min_with_lowpass.csv')\n",
    "magnetometer_test_data = pd.read_csv('/home/mzero/main/uni_repo/machine_learning_fqs_2024/ml4qs-gesture-recognition/Combined_40min_test/Combined_magnetometer_40min_with_lowpass.csv')"
   ]
  },
  {
   "cell_type": "markdown",
   "id": "9850bf64",
   "metadata": {},
   "source": [
    "### Transformation"
   ]
  },
  {
   "cell_type": "code",
   "execution_count": 27,
   "id": "4e92e73e",
   "metadata": {},
   "outputs": [],
   "source": [
    "# Merge datasets on time and label columns - syncronizing to same time point. (train)\n",
    "train_df_1 = pd.merge(accelerometer_train_data, gyroscope_train_data, on=['time', 'label'])\n",
    "train_df_2 = pd.merge(train_df_1, linear_accelerometer_train_data, on=['time', 'label'])\n",
    "train_df_3 = pd.merge(train_df_2, magnetometer_train_data, on=['time', 'label'])"
   ]
  },
  {
   "cell_type": "code",
   "execution_count": 28,
   "id": "bafbf1c0",
   "metadata": {},
   "outputs": [],
   "source": [
    "# Merge datasets on time and label columns - syncronizing to same time point. (test)\n",
    "test_df_1 = pd.merge(accelerometer_test_data, gyroscope_test_data, on=['time', 'label'])\n",
    "test_df_2 = pd.merge(test_df_1, linear_accelerometer_test_data, on=['time', 'label'])\n",
    "test_df_3 = pd.merge(test_df_2, magnetometer_test_data, on=['time', 'label'])"
   ]
  },
  {
   "cell_type": "markdown",
   "id": "c032c8e8",
   "metadata": {},
   "source": [
    "##### Fourier Transformation --> Normalization Method: X"
   ]
  },
  {
   "cell_type": "markdown",
   "id": "6b9d51b1",
   "metadata": {},
   "source": [
    "###### Fourier Transform"
   ]
  },
  {
   "cell_type": "code",
   "execution_count": 29,
   "id": "d922222e",
   "metadata": {},
   "outputs": [],
   "source": [
    "\n",
    "# Applying Fast Fourier Transformation - Discrete fourier Transformation\n",
    "def apply_dft(df):\n",
    "    features_X = df.columns.difference(['time', 'label'])\n",
    "    df[features_X] = np.abs(fft(df[features_X], axis=1))\n",
    "\n",
    "    return df \n",
    "\n",
    "train_df_X = apply_dft(train_df_3)\n",
    "test_df_X = apply_dft(test_df_3)      "
   ]
  },
  {
   "cell_type": "code",
   "execution_count": 35,
   "id": "ab88dde8",
   "metadata": {},
   "outputs": [
    {
     "name": "stdout",
     "output_type": "stream",
     "text": [
      "Classes: [0 1 2 3]\n",
      "Number of classes: 4\n",
      "Classes: [0 1 2 3]\n",
      "Number of classes: 4\n"
     ]
    }
   ],
   "source": [
    "# Normalize the data\n",
    "def normalizer(df):\n",
    "    features_X = df.columns.difference(['time', 'label'])\n",
    "    scaler = StandardScaler()\n",
    "    df[features_X] = scaler.fit_transform(df[features_X])\n",
    "\n",
    "    # Encode labels\n",
    "    label_encoder = LabelEncoder()\n",
    "    df['label'] = label_encoder.fit_transform(df['label'])\n",
    "\n",
    "    # Verify the unique classes\n",
    "    print(f\"Classes: {label_encoder.classes_}\")\n",
    "    print(f\"Number of classes: {label_encoder.classes_.shape[0]}\")\n",
    "\n",
    "    return df, label_encoder\n",
    "\n",
    "# Normalize the data and encode labels, returning both the DataFrame and the LabelEncoder\n",
    "train_data_X, train_label_encoder = normalizer(train_df_X)\n",
    "test_data_X, test_label_encoder = normalizer(test_df_X)\n",
    "\n"
   ]
  },
  {
   "cell_type": "code",
   "execution_count": 36,
   "id": "7f054570",
   "metadata": {},
   "outputs": [],
   "source": [
    "\n",
    "time_steps = 50  # Number of time steps used in LSTM\n",
    "features = train_df_3.columns.difference(['time', 'label'])\n",
    "\n",
    "# Prepare training data\n",
    "time_steps = 50  # Number of time steps to look back\n",
    "X_train = []\n",
    "y_train = []\n",
    "\n",
    "for i in range(time_steps, len(train_data_X)):\n",
    "    X_train.append(train_data_X.iloc[i-time_steps:i][features].values.flatten())\n",
    "    y_train.append(train_data_X.iloc[i]['label'])\n",
    "\n",
    "X_train, y_train = np.array(X_train), np.array(y_train)\n",
    "\n",
    "\n",
    "# Prepare test data\n",
    "X_test = []\n",
    "y_test = []\n",
    "\n",
    "for i in range(time_steps, len(test_data_X)):\n",
    "    X_test.append(test_data_X.iloc[i-time_steps:i][features].values.flatten())\n",
    "    y_test.append(test_data_X.iloc[i]['label'])\n",
    "\n",
    "X_test, y_test = np.array(X_test), np.array(y_test)"
   ]
  },
  {
   "cell_type": "markdown",
   "id": "3a692cf2",
   "metadata": {},
   "source": [
    "### Support Vector Machine Model"
   ]
  },
  {
   "cell_type": "code",
   "execution_count": 37,
   "id": "8b5afb3c",
   "metadata": {},
   "outputs": [
    {
     "data": {
      "text/html": [
       "<style>#sk-container-id-4 {color: black;}#sk-container-id-4 pre{padding: 0;}#sk-container-id-4 div.sk-toggleable {background-color: white;}#sk-container-id-4 label.sk-toggleable__label {cursor: pointer;display: block;width: 100%;margin-bottom: 0;padding: 0.3em;box-sizing: border-box;text-align: center;}#sk-container-id-4 label.sk-toggleable__label-arrow:before {content: \"▸\";float: left;margin-right: 0.25em;color: #696969;}#sk-container-id-4 label.sk-toggleable__label-arrow:hover:before {color: black;}#sk-container-id-4 div.sk-estimator:hover label.sk-toggleable__label-arrow:before {color: black;}#sk-container-id-4 div.sk-toggleable__content {max-height: 0;max-width: 0;overflow: hidden;text-align: left;background-color: #f0f8ff;}#sk-container-id-4 div.sk-toggleable__content pre {margin: 0.2em;color: black;border-radius: 0.25em;background-color: #f0f8ff;}#sk-container-id-4 input.sk-toggleable__control:checked~div.sk-toggleable__content {max-height: 200px;max-width: 100%;overflow: auto;}#sk-container-id-4 input.sk-toggleable__control:checked~label.sk-toggleable__label-arrow:before {content: \"▾\";}#sk-container-id-4 div.sk-estimator input.sk-toggleable__control:checked~label.sk-toggleable__label {background-color: #d4ebff;}#sk-container-id-4 div.sk-label input.sk-toggleable__control:checked~label.sk-toggleable__label {background-color: #d4ebff;}#sk-container-id-4 input.sk-hidden--visually {border: 0;clip: rect(1px 1px 1px 1px);clip: rect(1px, 1px, 1px, 1px);height: 1px;margin: -1px;overflow: hidden;padding: 0;position: absolute;width: 1px;}#sk-container-id-4 div.sk-estimator {font-family: monospace;background-color: #f0f8ff;border: 1px dotted black;border-radius: 0.25em;box-sizing: border-box;margin-bottom: 0.5em;}#sk-container-id-4 div.sk-estimator:hover {background-color: #d4ebff;}#sk-container-id-4 div.sk-parallel-item::after {content: \"\";width: 100%;border-bottom: 1px solid gray;flex-grow: 1;}#sk-container-id-4 div.sk-label:hover label.sk-toggleable__label {background-color: #d4ebff;}#sk-container-id-4 div.sk-serial::before {content: \"\";position: absolute;border-left: 1px solid gray;box-sizing: border-box;top: 0;bottom: 0;left: 50%;z-index: 0;}#sk-container-id-4 div.sk-serial {display: flex;flex-direction: column;align-items: center;background-color: white;padding-right: 0.2em;padding-left: 0.2em;position: relative;}#sk-container-id-4 div.sk-item {position: relative;z-index: 1;}#sk-container-id-4 div.sk-parallel {display: flex;align-items: stretch;justify-content: center;background-color: white;position: relative;}#sk-container-id-4 div.sk-item::before, #sk-container-id-4 div.sk-parallel-item::before {content: \"\";position: absolute;border-left: 1px solid gray;box-sizing: border-box;top: 0;bottom: 0;left: 50%;z-index: -1;}#sk-container-id-4 div.sk-parallel-item {display: flex;flex-direction: column;z-index: 1;position: relative;background-color: white;}#sk-container-id-4 div.sk-parallel-item:first-child::after {align-self: flex-end;width: 50%;}#sk-container-id-4 div.sk-parallel-item:last-child::after {align-self: flex-start;width: 50%;}#sk-container-id-4 div.sk-parallel-item:only-child::after {width: 0;}#sk-container-id-4 div.sk-dashed-wrapped {border: 1px dashed gray;margin: 0 0.4em 0.5em 0.4em;box-sizing: border-box;padding-bottom: 0.4em;background-color: white;}#sk-container-id-4 div.sk-label label {font-family: monospace;font-weight: bold;display: inline-block;line-height: 1.2em;}#sk-container-id-4 div.sk-label-container {text-align: center;}#sk-container-id-4 div.sk-container {/* jupyter's `normalize.less` sets `[hidden] { display: none; }` but bootstrap.min.css set `[hidden] { display: none !important; }` so we also need the `!important` here to be able to override the default hidden behavior on the sphinx rendered scikit-learn.org. See: https://github.com/scikit-learn/scikit-learn/issues/21755 */display: inline-block !important;position: relative;}#sk-container-id-4 div.sk-text-repr-fallback {display: none;}</style><div id=\"sk-container-id-4\" class=\"sk-top-container\"><div class=\"sk-text-repr-fallback\"><pre>SVC(C=1)</pre><b>In a Jupyter environment, please rerun this cell to show the HTML representation or trust the notebook. <br />On GitHub, the HTML representation is unable to render, please try loading this page with nbviewer.org.</b></div><div class=\"sk-container\" hidden><div class=\"sk-item\"><div class=\"sk-estimator sk-toggleable\"><input class=\"sk-toggleable__control sk-hidden--visually\" id=\"sk-estimator-id-4\" type=\"checkbox\" checked><label for=\"sk-estimator-id-4\" class=\"sk-toggleable__label sk-toggleable__label-arrow\">SVC</label><div class=\"sk-toggleable__content\"><pre>SVC(C=1)</pre></div></div></div></div></div>"
      ],
      "text/plain": [
       "SVC(C=1)"
      ]
     },
     "execution_count": 37,
     "metadata": {},
     "output_type": "execute_result"
    }
   ],
   "source": [
    "# Train the SVM model\n",
    "svm_model = SVC(kernel='rbf', C=1, gamma='scale')  # You can tune the hyperparameters\n",
    "svm_model.fit(X_train, y_train)\n"
   ]
  },
  {
   "cell_type": "code",
   "execution_count": 40,
   "id": "3004a461",
   "metadata": {},
   "outputs": [
    {
     "name": "stdout",
     "output_type": "stream",
     "text": [
      "SVM Classification Report\n",
      "              precision    recall  f1-score   support\n",
      "\n",
      "           0       0.63      0.75      0.68      1190\n",
      "           1       0.74      0.76      0.75      1147\n",
      "           2       0.00      0.00      0.00      1194\n",
      "           3       0.33      0.51      0.40      1186\n",
      "\n",
      "    accuracy                           0.50      4717\n",
      "   macro avg       0.43      0.50      0.46      4717\n",
      "weighted avg       0.42      0.50      0.46      4717\n",
      "\n",
      "SVM Model Accuracy: 0.5005\n"
     ]
    }
   ],
   "source": [
    "# Make predictions on the test set\n",
    "y_pred_svm = svm_model.predict(X_test)\n",
    "\n",
    "# Convert label encoder classes to strings for classification report\n",
    "target_names = [str(cls) for cls in test_label_encoder.classes_]\n",
    "\n",
    "# Print classification report\n",
    "print(\"SVM Classification Report\")\n",
    "print(classification_report(y_test, y_pred_svm, target_names=target_names))\n",
    "\n",
    "# Calculate accuracy\n",
    "accuracy_svm = accuracy_score(y_test, y_pred_svm)\n",
    "print(f'SVM Model Accuracy: {accuracy_svm:.4f}')\n"
   ]
  },
  {
   "cell_type": "code",
   "execution_count": 44,
   "id": "d955c559",
   "metadata": {},
   "outputs": [
    {
     "data": {
      "image/png": "[encoded data removed]",
      "text/plain": [
       "<Figure size 1000x700 with 2 Axes>"
      ]
     },
     "metadata": {},
     "output_type": "display_data"
    }
   ],
   "source": [
    "# Calculate confusion matrix\n",
    "conf_matrix_svm = confusion_matrix(y_test, y_pred_svm)\n",
    "\n",
    "def plot_confusion_matrix(conf_matrix, classes, model_name):\n",
    "    plt.figure(figsize=(10, 7))\n",
    "    sns.heatmap(conf_matrix, annot=True, fmt='d', cmap='Blues', xticklabels=classes, yticklabels=classes)\n",
    "    plt.xlabel('Predicted Labels')\n",
    "    plt.ylabel('True Labels')\n",
    "    plt.title(f'Confusion Matrix for {model_name}')\n",
    "    plt.show()\n",
    "\n",
    "# Plot confusion matrix for SVM\n",
    "plot_confusion_matrix(conf_matrix_svm, target_names, 'SVM')\n"
   ]
  },
  {
   "cell_type": "code",
   "execution_count": null,
   "id": "5e09a5c2",
   "metadata": {},
   "outputs": [],
   "source": []
  },
  {
   "cell_type": "code",
   "execution_count": null,
   "id": "398fbd4d",
   "metadata": {},
   "outputs": [],
   "source": []
  }
 ],
 "metadata": {
  "kernelspec": {
   "display_name": "Python 3 (ipykernel)",
   "language": "python",
   "name": "python3"
  },
  "language_info": {
   "codemirror_mode": {
    "name": "ipython",
    "version": 3
   },
   "file_extension": ".py",
   "mimetype": "text/x-python",
   "name": "python",
   "nbconvert_exporter": "python",
   "pygments_lexer": "ipython3",
   "version": "3.10.12"
  }
 },
 "nbformat": 4,
 "nbformat_minor": 5
}
