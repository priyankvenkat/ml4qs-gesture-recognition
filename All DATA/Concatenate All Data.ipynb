{
 "cells": [
  {
   "cell_type": "markdown",
   "id": "e4b04d77",
   "metadata": {},
   "source": [
    "# Import"
   ]
  },
  {
   "cell_type": "code",
   "execution_count": 1,
   "id": "920cc9fa",
   "metadata": {},
   "outputs": [],
   "source": [
    "import pandas as pd\n",
    "import matplotlib.pyplot as plt\n",
    "import numpy as np\n",
    "import seaborn as sns\n",
    "import os\n",
    "import warnings\n",
    "from scipy import stats"
   ]
  },
  {
   "cell_type": "markdown",
   "id": "7ce0e73a",
   "metadata": {},
   "source": [
    "# Aggregate Data"
   ]
  },
  {
   "cell_type": "code",
   "execution_count": 2,
   "id": "4a9bf64a",
   "metadata": {},
   "outputs": [],
   "source": [
    "# Function to create time intervals\n",
    "def create_time_intervals(start_time, end_time, delta_t):\n",
    "    return np.arange(start_time, end_time, delta_t)\n",
    "\n",
    "# Function to aggregate data within time steps\n",
    "def aggregate_data(df, time_column, delta_t, numerical_columns, label):\n",
    "    start_time = df[time_column].min()\n",
    "    end_time = df[time_column].max()\n",
    "    time_intervals = create_time_intervals(start_time, end_time, delta_t)\n",
    "    \n",
    "    aggregated_data = []\n",
    "\n",
    "    for t in time_intervals:\n",
    "        window = df[(df[time_column] >= t) & (df[time_column] < t + delta_t)]\n",
    "        if not window.empty:\n",
    "            aggregated_row = {}\n",
    "            aggregated_row['time'] = t\n",
    "            for col in numerical_columns:\n",
    "                aggregated_row[col] = window[col].mean()\n",
    "            # Add the label to the aggregated row\n",
    "            aggregated_row['label'] = label\n",
    "            aggregated_data.append(aggregated_row)\n",
    "\n",
    "    return pd.DataFrame(aggregated_data)\n"
   ]
  },
  {
   "cell_type": "markdown",
   "id": "25d0581a",
   "metadata": {},
   "source": [
    "# Load Paths"
   ]
  },
  {
   "cell_type": "code",
   "execution_count": 3,
   "id": "2cb5e64d",
   "metadata": {},
   "outputs": [],
   "source": [
    "# Define the base path and folders\n",
    "base_path = '/Users/priyank/Desktop/ML4QS-project'  # Update this to your actual path\n",
    "gesture_folders = ['Handshake_right_5mins', 'Highfive_right_5mins', 'Clapping_right_5mins', 'Wave_right_5mins']\n",
    "gesture_labels = ['handshake', 'highfive', 'clapping', 'waving']  # Corresponding labels for gestures\n",
    "file_names = ['Accelerometer.csv', 'Gyroscope.csv', 'Linear Accelerometer.csv', 'Magnetometer.csv']\n",
    "sensor_types = ['accelerometer', 'gyroscope', 'linear_accelerometer', 'magnetometer']\n",
    "\n",
    "# Specify numerical columns for each sensor type\n",
    "numerical_columns_dict = {\n",
    "    'accelerometer': ['X (m/s^2)', 'Y (m/s^2)', 'Z (m/s^2)'],\n",
    "    'gyroscope': ['X (rad/s)', 'Y (rad/s)', 'Z (rad/s)'],\n",
    "    'linear_accelerometer': ['X (m/s^2)', 'Y (m/s^2)', 'Z (m/s^2)'],\n",
    "    'magnetometer': ['X (µT)', 'Y (µT)', 'Z (µT)']\n",
    "}\n",
    "\n",
    "# Define time step\n",
    "delta_t = 0.5\n"
   ]
  },
  {
   "cell_type": "markdown",
   "id": "3a6656d4",
   "metadata": {},
   "source": [
    "# Save data"
   ]
  },
  {
   "cell_type": "code",
   "execution_count": 4,
   "id": "092180ac",
   "metadata": {},
   "outputs": [],
   "source": [
    "# Function to save aggregated data back into a specific folder with modified filenames\n",
    "def save_aggregated_data(base_path, gesture_folder, file_names, aggregated_data_dict, interval_label=\"0.5s\"):\n",
    "    target_path = os.path.join(base_path, gesture_folder, 'aggregated_data')\n",
    "    os.makedirs(target_path, exist_ok=True)\n",
    "    \n",
    "    for sensor_type, file_name in zip(sensor_types, file_names):\n",
    "        new_file_name = file_name.replace('.csv', f'_{interval_label}.csv')\n",
    "        output_path = os.path.join(target_path, new_file_name)\n",
    "        aggregated_data_dict[sensor_type].to_csv(output_path, index=False)\n",
    "        print(f\"Saved aggregated data to {output_path}\")"
   ]
  },
  {
   "cell_type": "code",
   "execution_count": 5,
   "id": "3a5bbd18",
   "metadata": {},
   "outputs": [
    {
     "name": "stdout",
     "output_type": "stream",
     "text": [
      "Saved aggregated data to /Users/priyank/Desktop/ML4QS-project/Handshake_right_5mins/aggregated_data/Accelerometer_0.5s.csv\n",
      "Saved aggregated data to /Users/priyank/Desktop/ML4QS-project/Handshake_right_5mins/aggregated_data/Gyroscope_0.5s.csv\n",
      "Saved aggregated data to /Users/priyank/Desktop/ML4QS-project/Handshake_right_5mins/aggregated_data/Linear Accelerometer_0.5s.csv\n",
      "Saved aggregated data to /Users/priyank/Desktop/ML4QS-project/Handshake_right_5mins/aggregated_data/Magnetometer_0.5s.csv\n",
      "Saved aggregated data to /Users/priyank/Desktop/ML4QS-project/Highfive_right_5mins/aggregated_data/Accelerometer_0.5s.csv\n",
      "Saved aggregated data to /Users/priyank/Desktop/ML4QS-project/Highfive_right_5mins/aggregated_data/Gyroscope_0.5s.csv\n",
      "Saved aggregated data to /Users/priyank/Desktop/ML4QS-project/Highfive_right_5mins/aggregated_data/Linear Accelerometer_0.5s.csv\n",
      "Saved aggregated data to /Users/priyank/Desktop/ML4QS-project/Highfive_right_5mins/aggregated_data/Magnetometer_0.5s.csv\n",
      "Saved aggregated data to /Users/priyank/Desktop/ML4QS-project/Clapping_right_5mins/aggregated_data/Accelerometer_0.5s.csv\n",
      "Saved aggregated data to /Users/priyank/Desktop/ML4QS-project/Clapping_right_5mins/aggregated_data/Gyroscope_0.5s.csv\n",
      "Saved aggregated data to /Users/priyank/Desktop/ML4QS-project/Clapping_right_5mins/aggregated_data/Linear Accelerometer_0.5s.csv\n",
      "Saved aggregated data to /Users/priyank/Desktop/ML4QS-project/Clapping_right_5mins/aggregated_data/Magnetometer_0.5s.csv\n",
      "Saved aggregated data to /Users/priyank/Desktop/ML4QS-project/Wave_right_5mins/aggregated_data/Accelerometer_0.5s.csv\n",
      "Saved aggregated data to /Users/priyank/Desktop/ML4QS-project/Wave_right_5mins/aggregated_data/Gyroscope_0.5s.csv\n",
      "Saved aggregated data to /Users/priyank/Desktop/ML4QS-project/Wave_right_5mins/aggregated_data/Linear Accelerometer_0.5s.csv\n",
      "Saved aggregated data to /Users/priyank/Desktop/ML4QS-project/Wave_right_5mins/aggregated_data/Magnetometer_0.5s.csv\n"
     ]
    }
   ],
   "source": [
    "# Aggregate data for each sensor type in each folder\n",
    "for gesture_folder, gesture_label in zip(gesture_folders, gesture_labels):\n",
    "    sub_folders = [f.path for f in os.scandir(os.path.join(base_path, gesture_folder)) if f.is_dir()]\n",
    "    aggregated_data_dict = {sensor_type: pd.DataFrame() for sensor_type in sensor_types}\n",
    "    \n",
    "    for sensor_type, file_name in zip(sensor_types, file_names):\n",
    "        data_dict = []\n",
    "        for sub_folder in sub_folders:\n",
    "            file_path = os.path.join(sub_folder, file_name)\n",
    "            if os.path.exists(file_path):\n",
    "                df = pd.read_csv(file_path)\n",
    "                aggregated_df = aggregate_data(df, 'Time (s)', delta_t, numerical_columns_dict[sensor_type], gesture_label)\n",
    "                data_dict.append(aggregated_df)\n",
    "                    \n",
    "        aggregated_data_dict[sensor_type] = pd.concat(data_dict, ignore_index=True)\n",
    "    \n",
    "    save_aggregated_data(base_path, gesture_folder, file_names, aggregated_data_dict)\n",
    "\n",
    "# Function to load and adjust timestamps for combined data\n",
    "def load_and_adjust_timestamps(base_path, gesture_folders, filename):\n",
    "    combined_data = pd.DataFrame()\n",
    "    for gesture_folder in gesture_folders:\n",
    "        target_path = os.path.join(base_path, gesture_folder, 'aggregated_data')\n",
    "        file_path = os.path.join(target_path, filename)\n",
    "        if os.path.exists(file_path):\n",
    "            df = pd.read_csv(file_path)\n",
    "            combined_data = pd.concat([combined_data, df], ignore_index=True)\n",
    "    \n",
    "    # Adjust the timestamps to start at 0 and increment by delta_t\n",
    "    combined_data['time'] = np.arange(0, delta_t * len(combined_data), delta_t)\n",
    "    return combined_data\n"
   ]
  },
  {
   "cell_type": "code",
   "execution_count": 6,
   "id": "07273871",
   "metadata": {},
   "outputs": [
    {
     "name": "stdout",
     "output_type": "stream",
     "text": [
      "Data concatenation and timestamp adjustment completed.\n"
     ]
    }
   ],
   "source": [
    "# Define the sensor files and columns for the final combination step\n",
    "sensor_files = {\n",
    "    'accelerometer': 'Accelerometer_0.5s.csv',\n",
    "    'gyroscope': 'Gyroscope_0.5s.csv',\n",
    "    'linear_accelerometer': 'Linear Accelerometer_0.5s.csv',\n",
    "    'magnetometer': 'Magnetometer_0.5s.csv'\n",
    "}\n",
    "\n",
    "# Process each sensor file to combine data from all gesture folders\n",
    "for sensor_type, filename in sensor_files.items():\n",
    "    combined_data = load_and_adjust_timestamps(base_path, gesture_folders, filename)\n",
    "    output_path = os.path.join(base_path, f'Combined_{filename}')\n",
    "    combined_data.to_csv(output_path, index=False)\n",
    "\n",
    "print(\"Data concatenation and timestamp adjustment completed.\")\n"
   ]
  }
 ],
 "metadata": {
  "kernelspec": {
   "display_name": "Python 3 (ipykernel)",
   "language": "python",
   "name": "python3"
  },
  "language_info": {
   "codemirror_mode": {
    "name": "ipython",
    "version": 3
   },
   "file_extension": ".py",
   "mimetype": "text/x-python",
   "name": "python",
   "nbconvert_exporter": "python",
   "pygments_lexer": "ipython3",
   "version": "3.11.7"
  }
 },
 "nbformat": 4,
 "nbformat_minor": 5
}
