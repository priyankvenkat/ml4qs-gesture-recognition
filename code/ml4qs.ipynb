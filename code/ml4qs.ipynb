{
 "cells": [
  {
   "cell_type": "code",
   "execution_count": 38,
   "id": "22daa519-7043-4487-a19e-dd1ab180867f",
   "metadata": {},
   "outputs": [],
   "source": [
    "import pandas as pd\n",
    "import numpy as np\n",
    "import matplotlib.pyplot as plt\n",
    "import seaborn as sns\n",
    "\n",
    "from tensorflow import keras\n",
    "from keras.models import Sequential\n",
    "from keras.layers import Dense\n",
    "from keras.layers import LSTM\n",
    "from keras.layers import Dropout\n",
    "\n",
    "from sklearn.preprocessing import LabelEncoder, StandardScaler\n",
    "from sklearn.model_selection import train_test_split\n",
    "\n",
    "from tensorflow.keras.callbacks import EarlyStopping\n",
    "from scipy.fft import fft\n",
    "\n"
   ]
  },
  {
   "cell_type": "code",
   "execution_count": 39,
   "id": "8780d85a",
   "metadata": {},
   "outputs": [],
   "source": [
    "# Loading the datasets\n",
    "accelerometer_data = pd.read_csv('/home/mzero/main/uni_repo/machine_learning_fqs_2024/ml4qs-gesture-recognition/data/preprocced_data/Combined_accelerometer_80min.csv')\n",
    "gyroscope_data = pd.read_csv('/home/mzero/main/uni_repo/machine_learning_fqs_2024/ml4qs-gesture-recognition/data/preprocced_data/Combined_gyroscope_80min.csv')\n",
    "linear_accelerometer_data = pd.read_csv('/home/mzero/main/uni_repo/machine_learning_fqs_2024/ml4qs-gesture-recognition/data/preprocced_data/Combined_linear_accelerometer_80min.csv')\n",
    "magnetometer_data = pd.read_csv('/home/mzero/main/uni_repo/machine_learning_fqs_2024/ml4qs-gesture-recognition/data/preprocced_data/Combined_magnetometer_80min.csv')"
   ]
  },
  {
   "cell_type": "markdown",
   "id": "9850bf64",
   "metadata": {},
   "source": [
    "### Transformation"
   ]
  },
  {
   "cell_type": "markdown",
   "id": "0e43ced0",
   "metadata": {},
   "source": [
    "###### Normalization"
   ]
  },
  {
   "cell_type": "code",
   "execution_count": 40,
   "id": "4e92e73e",
   "metadata": {},
   "outputs": [],
   "source": [
    "# Merge datasets on time and label columns - syncronizing to same time point.\n",
    "df = pd.merge(accelerometer_data, gyroscope_data, on=['time', 'label'])\n",
    "df = pd.merge(data, linear_accelerometer_data, on=['time', 'label'])\n",
    "df = pd.merge(data, magnetometer_data, on=['time', 'label'])"
   ]
  },
  {
   "cell_type": "markdown",
   "id": "6b9d51b1",
   "metadata": {},
   "source": [
    "###### Fourier Transform"
   ]
  },
  {
   "cell_type": "code",
   "execution_count": 68,
   "id": "d922222e",
   "metadata": {},
   "outputs": [
    {
     "name": "stdout",
     "output_type": "stream",
     "text": [
      "        time  X (m/s^2)_x  Y (m/s^2)_x  Z (m/s^2)_x  label  X (rad/s)  \\\n",
      "0        0.0     1.733939    -0.896367     0.016498      1  -0.539965   \n",
      "1        0.5     0.763584    -0.988776     0.016498      1   0.084789   \n",
      "2        1.0     1.512179    -1.536550     0.041550      1   0.489120   \n",
      "3        1.5     1.512179    -2.128818     0.086338      1   0.015057   \n",
      "4        2.0     1.734644    -2.128818     0.076241      1   0.026014   \n",
      "...      ...          ...          ...          ...    ...        ...   \n",
      "9555  4778.5    -0.733261     0.361888    -1.007100      3  -0.077005   \n",
      "9556  4779.0    -1.063897     0.182743    -0.879866      3   0.158117   \n",
      "9557  4779.5    -1.081024     0.051991    -1.053849      3  -0.042638   \n",
      "9558  4780.0    -0.823861     0.331053    -0.895031      3  -0.028311   \n",
      "9559  4780.5    -0.253258     0.643179    -1.073786      3   0.285706   \n",
      "\n",
      "      Y (rad/s)  Z (rad/s)  X (m/s^2)_y  Y (m/s^2)_y  Z (m/s^2)_y    X (µT)  \\\n",
      "0     -0.733322   0.888424     0.387696     0.548743     0.648719 -1.092695   \n",
      "1     -0.515279  -0.336838    -2.186671    -0.606919    -0.223014 -0.869484   \n",
      "2      0.053203  -0.628784     0.001501    -1.356931     0.330139 -0.814384   \n",
      "3     -0.230054  -0.600172     0.377740    -1.421070     0.028516 -0.750131   \n",
      "4      0.297128  -0.469695     0.695608    -1.768941    -0.009288 -0.903676   \n",
      "...         ...        ...          ...          ...          ...       ...   \n",
      "9555   0.257562  -0.111916     0.922781    -0.202380    -0.832651  0.437295   \n",
      "9556  -0.233950   0.414089     0.497510     0.730816    -0.000432  0.416252   \n",
      "9557   0.562563  -0.976655     1.316050     0.131077    -0.278120  0.336002   \n",
      "9558   0.079988  -1.058332     0.347436    -0.778794    -0.479814  0.487309   \n",
      "9559   0.588188  -0.393358    -0.113576    -0.860971    -0.889111  0.415288   \n",
      "\n",
      "        Y (µT)    Z (µT)  \n",
      "0     0.010744 -0.220371  \n",
      "1    -0.090232 -0.096660  \n",
      "2    -0.077369 -0.097136  \n",
      "3    -0.093530 -0.148021  \n",
      "4    -0.020445 -0.171010  \n",
      "...        ...       ...  \n",
      "9555 -0.070068  0.139037  \n",
      "9556 -0.075440  0.151850  \n",
      "9557 -0.118277  0.117002  \n",
      "9558 -0.053458  0.102909  \n",
      "9559 -0.069585  0.098083  \n",
      "\n",
      "[9560 rows x 14 columns]\n"
     ]
    }
   ],
   "source": [
    "\n",
    "# Applying Fast Fourier Transformation - Discrete fourier Transformation\n",
    "def apply_dft(df):\n",
    "    features = data.columns.difference(['time', 'label'])\n",
    "    data[features] = np.abs(fft(data[features], axis=1))\n",
    "    return data \n",
    "\n",
    "print(data)"
   ]
  },
  {
   "cell_type": "code",
   "execution_count": 69,
   "id": "795ea4ea",
   "metadata": {},
   "outputs": [],
   "source": [
    "# Normalize the feature columns\n",
    "features = data.columns.difference(['time', 'label'])\n",
    "scaler = StandardScaler()\n",
    "data[features] = scaler.fit_transform(data[features])\n",
    "\n",
    "# Encode labels\n",
    "label_encoder = LabelEncoder()\n",
    "data['label'] = label_encoder.fit_transform(data['label'])"
   ]
  },
  {
   "cell_type": "code",
   "execution_count": 70,
   "id": "64ac8d49",
   "metadata": {},
   "outputs": [
    {
     "name": "stdout",
     "output_type": "stream",
     "text": [
      "Classes: [0 1 2 3]\n",
      "Number of classes: 4\n"
     ]
    }
   ],
   "source": [
    "# Verify the unique classes\n",
    "print(f\"Classes: {label_encoder.classes_}\")\n",
    "print(f\"Number of classes: {label_encoder.classes_.shape[0]}\")"
   ]
  },
  {
   "cell_type": "code",
   "execution_count": 71,
   "id": "df727c3f",
   "metadata": {},
   "outputs": [],
   "source": [
    "# Reshape the data - DOCUMENTED AS THE WAY TO PASS DATA TO THE LSTM NEEDS TO BE A SEQUENCE to learn the temporal patterns matching sequence to label \n",
    "time_steps = 50  # Number of time steps to look back for predictions - ANDOMLY CHOSEN O RATIONAL YET\n",
    "X = []\n",
    "y = []\n",
    "\n",
    "for i in range(time_steps, len(data)):\n",
    "    X.append(data.iloc[i-time_steps:i][features].values)\n",
    "    y.append(data.iloc[i]['label'])\n",
    "\n",
    "\n",
    "X, y = np.array(X), np.array(y)"
   ]
  },
  {
   "cell_type": "markdown",
   "id": "d9870fbe",
   "metadata": {},
   "source": [
    "### Long Short-term Memory Model Implimentation"
   ]
  },
  {
   "cell_type": "code",
   "execution_count": 72,
   "id": "7c9b3483",
   "metadata": {},
   "outputs": [],
   "source": [
    "# Split into training and testing sets\n",
    "X_train, X_test, y_train, y_test = train_test_split(X, y, test_size=0.3)"
   ]
  },
  {
   "cell_type": "code",
   "execution_count": 73,
   "id": "970d0034",
   "metadata": {},
   "outputs": [
    {
     "name": "stdout",
     "output_type": "stream",
     "text": [
      "(6657, 50, 12)\n",
      "(2853, 50, 12)\n",
      "(6657,)\n",
      "(2853,)\n"
     ]
    }
   ],
   "source": [
    "print(X_train.shape)\n",
    "print(X_test.shape)\n",
    "print(y_train.shape)\n",
    "print(y_test.shape)"
   ]
  },
  {
   "cell_type": "code",
   "execution_count": 76,
   "id": "a2f217cd",
   "metadata": {},
   "outputs": [
    {
     "name": "stderr",
     "output_type": "stream",
     "text": [
      "/home/mzero/.local/lib/python3.10/site-packages/keras/src/layers/rnn/rnn.py:204: UserWarning: Do not pass an `input_shape`/`input_dim` argument to a layer. When using Sequential models, prefer using an `Input(shape)` object as the first layer in the model instead.\n",
      "  super().__init__(**kwargs)\n"
     ]
    }
   ],
   "source": [
    "# LSTM Development Still working out what is required, but apperantly order matters. \n",
    "\n",
    "model = Sequential() # Model to store layers \n",
    "model.add(LSTM(units=50, return_sequences=True, input_shape=(X_train.shape[1], X_train.shape[2]))) # First LSTM Layer\n",
    "model.add(Dropout(0.2)) # Droput 20% of the neurons for overfitting\n",
    "model.add(LSTM(units=50))# add 50 more neuons in second layer to pass to the final layer\n",
    "model.add(Dense(units=label_encoder.classes_.shape[0], activation='softmax')) # Final output layer with predictions\n",
    "\n",
    "model.compile(optimizer='adam', loss='sparse_categorical_crossentropy', metrics=['accuracy']) "
   ]
  },
  {
   "cell_type": "code",
   "execution_count": 77,
   "id": "0e1f90c9",
   "metadata": {},
   "outputs": [
    {
     "name": "stdout",
     "output_type": "stream",
     "text": [
      "Epoch 1/50\n",
      "\u001b[1m104/104\u001b[0m \u001b[32m━━━━━━━━━━━━━━━━━━━━\u001b[0m\u001b[37m\u001b[0m \u001b[1m5s\u001b[0m 31ms/step - accuracy: 0.7077 - loss: 0.8219 - val_accuracy: 0.9567 - val_loss: 0.1681\n",
      "Epoch 2/50\n",
      "\u001b[1m104/104\u001b[0m \u001b[32m━━━━━━━━━━━━━━━━━━━━\u001b[0m\u001b[37m\u001b[0m \u001b[1m3s\u001b[0m 28ms/step - accuracy: 0.9741 - loss: 0.1082 - val_accuracy: 0.9778 - val_loss: 0.0757\n",
      "Epoch 3/50\n",
      "\u001b[1m104/104\u001b[0m \u001b[32m━━━━━━━━━━━━━━━━━━━━\u001b[0m\u001b[37m\u001b[0m \u001b[1m3s\u001b[0m 28ms/step - accuracy: 0.9795 - loss: 0.0773 - val_accuracy: 0.9904 - val_loss: 0.0401\n",
      "Epoch 4/50\n",
      "\u001b[1m104/104\u001b[0m \u001b[32m━━━━━━━━━━━━━━━━━━━━\u001b[0m\u001b[37m\u001b[0m \u001b[1m3s\u001b[0m 29ms/step - accuracy: 0.9896 - loss: 0.0415 - val_accuracy: 0.9883 - val_loss: 0.0388\n",
      "Epoch 5/50\n",
      "\u001b[1m104/104\u001b[0m \u001b[32m━━━━━━━━━━━━━━━━━━━━\u001b[0m\u001b[37m\u001b[0m \u001b[1m3s\u001b[0m 28ms/step - accuracy: 0.9870 - loss: 0.0468 - val_accuracy: 0.9922 - val_loss: 0.0286\n",
      "Epoch 6/50\n",
      "\u001b[1m104/104\u001b[0m \u001b[32m━━━━━━━━━━━━━━━━━━━━\u001b[0m\u001b[37m\u001b[0m \u001b[1m3s\u001b[0m 28ms/step - accuracy: 0.9962 - loss: 0.0236 - val_accuracy: 0.9946 - val_loss: 0.0196\n",
      "Epoch 7/50\n",
      "\u001b[1m104/104\u001b[0m \u001b[32m━━━━━━━━━━━━━━━━━━━━\u001b[0m\u001b[37m\u001b[0m \u001b[1m3s\u001b[0m 28ms/step - accuracy: 0.9968 - loss: 0.0163 - val_accuracy: 0.9946 - val_loss: 0.0155\n",
      "Epoch 8/50\n",
      "\u001b[1m104/104\u001b[0m \u001b[32m━━━━━━━━━━━━━━━━━━━━\u001b[0m\u001b[37m\u001b[0m \u001b[1m3s\u001b[0m 28ms/step - accuracy: 0.9955 - loss: 0.0213 - val_accuracy: 0.9703 - val_loss: 0.0633\n",
      "Epoch 9/50\n",
      "\u001b[1m104/104\u001b[0m \u001b[32m━━━━━━━━━━━━━━━━━━━━\u001b[0m\u001b[37m\u001b[0m \u001b[1m3s\u001b[0m 28ms/step - accuracy: 0.9928 - loss: 0.0227 - val_accuracy: 0.9856 - val_loss: 0.0449\n",
      "Epoch 10/50\n",
      "\u001b[1m104/104\u001b[0m \u001b[32m━━━━━━━━━━━━━━━━━━━━\u001b[0m\u001b[37m\u001b[0m \u001b[1m3s\u001b[0m 28ms/step - accuracy: 0.9952 - loss: 0.0249 - val_accuracy: 0.9724 - val_loss: 0.1646\n",
      "Epoch 11/50\n",
      "\u001b[1m104/104\u001b[0m \u001b[32m━━━━━━━━━━━━━━━━━━━━\u001b[0m\u001b[37m\u001b[0m \u001b[1m3s\u001b[0m 29ms/step - accuracy: 0.9865 - loss: 0.0681 - val_accuracy: 0.9937 - val_loss: 0.0205\n",
      "Epoch 12/50\n",
      "\u001b[1m104/104\u001b[0m \u001b[32m━━━━━━━━━━━━━━━━━━━━\u001b[0m\u001b[37m\u001b[0m \u001b[1m3s\u001b[0m 28ms/step - accuracy: 0.9956 - loss: 0.0216 - val_accuracy: 0.9955 - val_loss: 0.0220\n",
      "Epoch 13/50\n",
      "\u001b[1m104/104\u001b[0m \u001b[32m━━━━━━━━━━━━━━━━━━━━\u001b[0m\u001b[37m\u001b[0m \u001b[1m3s\u001b[0m 29ms/step - accuracy: 0.9976 - loss: 0.0151 - val_accuracy: 0.9973 - val_loss: 0.0093\n",
      "Epoch 14/50\n",
      "\u001b[1m104/104\u001b[0m \u001b[32m━━━━━━━━━━━━━━━━━━━━\u001b[0m\u001b[37m\u001b[0m \u001b[1m3s\u001b[0m 29ms/step - accuracy: 0.9967 - loss: 0.0120 - val_accuracy: 0.9979 - val_loss: 0.0082\n",
      "Epoch 15/50\n",
      "\u001b[1m104/104\u001b[0m \u001b[32m━━━━━━━━━━━━━━━━━━━━\u001b[0m\u001b[37m\u001b[0m \u001b[1m3s\u001b[0m 28ms/step - accuracy: 0.9977 - loss: 0.0085 - val_accuracy: 0.9970 - val_loss: 0.0140\n",
      "Epoch 16/50\n",
      "\u001b[1m104/104\u001b[0m \u001b[32m━━━━━━━━━━━━━━━━━━━━\u001b[0m\u001b[37m\u001b[0m \u001b[1m3s\u001b[0m 28ms/step - accuracy: 0.9939 - loss: 0.0268 - val_accuracy: 0.9973 - val_loss: 0.0077\n",
      "Epoch 17/50\n",
      "\u001b[1m104/104\u001b[0m \u001b[32m━━━━━━━━━━━━━━━━━━━━\u001b[0m\u001b[37m\u001b[0m \u001b[1m3s\u001b[0m 28ms/step - accuracy: 0.9989 - loss: 0.0054 - val_accuracy: 0.9988 - val_loss: 0.0072\n",
      "Epoch 18/50\n",
      "\u001b[1m104/104\u001b[0m \u001b[32m━━━━━━━━━━━━━━━━━━━━\u001b[0m\u001b[37m\u001b[0m \u001b[1m3s\u001b[0m 28ms/step - accuracy: 0.9978 - loss: 0.0091 - val_accuracy: 0.9988 - val_loss: 0.0069\n",
      "Epoch 19/50\n",
      "\u001b[1m104/104\u001b[0m \u001b[32m━━━━━━━━━━━━━━━━━━━━\u001b[0m\u001b[37m\u001b[0m \u001b[1m3s\u001b[0m 28ms/step - accuracy: 0.9984 - loss: 0.0073 - val_accuracy: 0.9991 - val_loss: 0.0063\n",
      "Epoch 20/50\n",
      "\u001b[1m104/104\u001b[0m \u001b[32m━━━━━━━━━━━━━━━━━━━━\u001b[0m\u001b[37m\u001b[0m \u001b[1m3s\u001b[0m 28ms/step - accuracy: 0.9986 - loss: 0.0042 - val_accuracy: 0.9991 - val_loss: 0.0038\n",
      "Epoch 21/50\n",
      "\u001b[1m104/104\u001b[0m \u001b[32m━━━━━━━━━━━━━━━━━━━━\u001b[0m\u001b[37m\u001b[0m \u001b[1m3s\u001b[0m 29ms/step - accuracy: 0.9980 - loss: 0.0057 - val_accuracy: 0.9991 - val_loss: 0.0045\n",
      "Epoch 22/50\n",
      "\u001b[1m104/104\u001b[0m \u001b[32m━━━━━━━━━━━━━━━━━━━━\u001b[0m\u001b[37m\u001b[0m \u001b[1m3s\u001b[0m 28ms/step - accuracy: 0.9992 - loss: 0.0038 - val_accuracy: 0.9991 - val_loss: 0.0040\n",
      "Epoch 23/50\n",
      "\u001b[1m104/104\u001b[0m \u001b[32m━━━━━━━━━━━━━━━━━━━━\u001b[0m\u001b[37m\u001b[0m \u001b[1m4s\u001b[0m 34ms/step - accuracy: 0.9989 - loss: 0.0048 - val_accuracy: 0.9994 - val_loss: 0.0053\n",
      "Epoch 24/50\n",
      "\u001b[1m104/104\u001b[0m \u001b[32m━━━━━━━━━━━━━━━━━━━━\u001b[0m\u001b[37m\u001b[0m \u001b[1m3s\u001b[0m 30ms/step - accuracy: 0.9993 - loss: 0.0032 - val_accuracy: 0.9991 - val_loss: 0.0035\n",
      "Epoch 25/50\n",
      "\u001b[1m104/104\u001b[0m \u001b[32m━━━━━━━━━━━━━━━━━━━━\u001b[0m\u001b[37m\u001b[0m \u001b[1m3s\u001b[0m 29ms/step - accuracy: 0.9988 - loss: 0.0052 - val_accuracy: 0.9997 - val_loss: 0.0020\n",
      "Epoch 26/50\n",
      "\u001b[1m104/104\u001b[0m \u001b[32m━━━━━━━━━━━━━━━━━━━━\u001b[0m\u001b[37m\u001b[0m \u001b[1m3s\u001b[0m 28ms/step - accuracy: 0.9959 - loss: 0.0086 - val_accuracy: 0.9994 - val_loss: 0.0033\n",
      "Epoch 27/50\n",
      "\u001b[1m104/104\u001b[0m \u001b[32m━━━━━━━━━━━━━━━━━━━━\u001b[0m\u001b[37m\u001b[0m \u001b[1m3s\u001b[0m 29ms/step - accuracy: 0.9979 - loss: 0.0063 - val_accuracy: 0.9994 - val_loss: 0.0038\n",
      "Epoch 28/50\n",
      "\u001b[1m104/104\u001b[0m \u001b[32m━━━━━━━━━━━━━━━━━━━━\u001b[0m\u001b[37m\u001b[0m \u001b[1m3s\u001b[0m 29ms/step - accuracy: 0.9984 - loss: 0.0041 - val_accuracy: 0.9997 - val_loss: 0.0021\n",
      "Epoch 29/50\n",
      "\u001b[1m104/104\u001b[0m \u001b[32m━━━━━━━━━━━━━━━━━━━━\u001b[0m\u001b[37m\u001b[0m \u001b[1m3s\u001b[0m 30ms/step - accuracy: 0.9993 - loss: 0.0023 - val_accuracy: 0.9991 - val_loss: 0.0035\n",
      "Epoch 30/50\n",
      "\u001b[1m104/104\u001b[0m \u001b[32m━━━━━━━━━━━━━━━━━━━━\u001b[0m\u001b[37m\u001b[0m \u001b[1m3s\u001b[0m 29ms/step - accuracy: 0.9999 - loss: 6.4111e-04 - val_accuracy: 0.9982 - val_loss: 0.0049\n",
      "Epoch 31/50\n",
      "\u001b[1m104/104\u001b[0m \u001b[32m━━━━━━━━━━━━━━━━━━━━\u001b[0m\u001b[37m\u001b[0m \u001b[1m3s\u001b[0m 29ms/step - accuracy: 0.9997 - loss: 0.0032 - val_accuracy: 0.9988 - val_loss: 0.0047\n",
      "Epoch 32/50\n",
      "\u001b[1m104/104\u001b[0m \u001b[32m━━━━━━━━━━━━━━━━━━━━\u001b[0m\u001b[37m\u001b[0m \u001b[1m3s\u001b[0m 29ms/step - accuracy: 0.9993 - loss: 0.0022 - val_accuracy: 0.9991 - val_loss: 0.0030\n",
      "Epoch 33/50\n",
      "\u001b[1m104/104\u001b[0m \u001b[32m━━━━━━━━━━━━━━━━━━━━\u001b[0m\u001b[37m\u001b[0m \u001b[1m3s\u001b[0m 29ms/step - accuracy: 0.9981 - loss: 0.0052 - val_accuracy: 0.9985 - val_loss: 0.0080\n",
      "Epoch 34/50\n",
      "\u001b[1m104/104\u001b[0m \u001b[32m━━━━━━━━━━━━━━━━━━━━\u001b[0m\u001b[37m\u001b[0m \u001b[1m3s\u001b[0m 29ms/step - accuracy: 0.9977 - loss: 0.0113 - val_accuracy: 0.9964 - val_loss: 0.0127\n",
      "Epoch 35/50\n",
      "\u001b[1m104/104\u001b[0m \u001b[32m━━━━━━━━━━━━━━━━━━━━\u001b[0m\u001b[37m\u001b[0m \u001b[1m3s\u001b[0m 29ms/step - accuracy: 0.9964 - loss: 0.0123 - val_accuracy: 0.9973 - val_loss: 0.0093\n",
      "Epoch 36/50\n",
      "\u001b[1m104/104\u001b[0m \u001b[32m━━━━━━━━━━━━━━━━━━━━\u001b[0m\u001b[37m\u001b[0m \u001b[1m3s\u001b[0m 29ms/step - accuracy: 0.9905 - loss: 0.0356 - val_accuracy: 0.9934 - val_loss: 0.0250\n",
      "Epoch 37/50\n",
      "\u001b[1m104/104\u001b[0m \u001b[32m━━━━━━━━━━━━━━━━━━━━\u001b[0m\u001b[37m\u001b[0m \u001b[1m3s\u001b[0m 29ms/step - accuracy: 0.9938 - loss: 0.0183 - val_accuracy: 0.9985 - val_loss: 0.0055\n",
      "Epoch 38/50\n",
      "\u001b[1m104/104\u001b[0m \u001b[32m━━━━━━━━━━━━━━━━━━━━\u001b[0m\u001b[37m\u001b[0m \u001b[1m3s\u001b[0m 29ms/step - accuracy: 0.9987 - loss: 0.0041 - val_accuracy: 0.9988 - val_loss: 0.0046\n",
      "Epoch 39/50\n",
      "\u001b[1m104/104\u001b[0m \u001b[32m━━━━━━━━━━━━━━━━━━━━\u001b[0m\u001b[37m\u001b[0m \u001b[1m3s\u001b[0m 29ms/step - accuracy: 0.9993 - loss: 0.0020 - val_accuracy: 0.9985 - val_loss: 0.0044\n",
      "Epoch 40/50\n",
      "\u001b[1m104/104\u001b[0m \u001b[32m━━━━━━━━━━━━━━━━━━━━\u001b[0m\u001b[37m\u001b[0m \u001b[1m3s\u001b[0m 29ms/step - accuracy: 0.9993 - loss: 0.0019 - val_accuracy: 0.9991 - val_loss: 0.0030\n",
      "Epoch 41/50\n",
      "\u001b[1m104/104\u001b[0m \u001b[32m━━━━━━━━━━━━━━━━━━━━\u001b[0m\u001b[37m\u001b[0m \u001b[1m3s\u001b[0m 29ms/step - accuracy: 1.0000 - loss: 0.0011 - val_accuracy: 0.9991 - val_loss: 0.0028\n",
      "Epoch 42/50\n",
      "\u001b[1m104/104\u001b[0m \u001b[32m━━━━━━━━━━━━━━━━━━━━\u001b[0m\u001b[37m\u001b[0m \u001b[1m3s\u001b[0m 29ms/step - accuracy: 1.0000 - loss: 5.7356e-04 - val_accuracy: 0.9988 - val_loss: 0.0042\n",
      "Epoch 43/50\n",
      "\u001b[1m104/104\u001b[0m \u001b[32m━━━━━━━━━━━━━━━━━━━━\u001b[0m\u001b[37m\u001b[0m \u001b[1m3s\u001b[0m 29ms/step - accuracy: 1.0000 - loss: 8.1222e-04 - val_accuracy: 0.9985 - val_loss: 0.0048\n",
      "Epoch 44/50\n",
      "\u001b[1m104/104\u001b[0m \u001b[32m━━━━━━━━━━━━━━━━━━━━\u001b[0m\u001b[37m\u001b[0m \u001b[1m3s\u001b[0m 29ms/step - accuracy: 1.0000 - loss: 4.6544e-04 - val_accuracy: 0.9982 - val_loss: 0.0052\n",
      "Epoch 45/50\n",
      "\u001b[1m104/104\u001b[0m \u001b[32m━━━━━━━━━━━━━━━━━━━━\u001b[0m\u001b[37m\u001b[0m \u001b[1m3s\u001b[0m 29ms/step - accuracy: 1.0000 - loss: 7.5791e-04 - val_accuracy: 0.9982 - val_loss: 0.0050\n",
      "Epoch 46/50\n",
      "\u001b[1m104/104\u001b[0m \u001b[32m━━━━━━━━━━━━━━━━━━━━\u001b[0m\u001b[37m\u001b[0m \u001b[1m3s\u001b[0m 29ms/step - accuracy: 1.0000 - loss: 5.0127e-04 - val_accuracy: 0.9985 - val_loss: 0.0046\n",
      "Epoch 47/50\n",
      "\u001b[1m104/104\u001b[0m \u001b[32m━━━━━━━━━━━━━━━━━━━━\u001b[0m\u001b[37m\u001b[0m \u001b[1m5s\u001b[0m 28ms/step - accuracy: 1.0000 - loss: 3.8402e-04 - val_accuracy: 0.9985 - val_loss: 0.0048\n",
      "Epoch 48/50\n",
      "\u001b[1m104/104\u001b[0m \u001b[32m━━━━━━━━━━━━━━━━━━━━\u001b[0m\u001b[37m\u001b[0m \u001b[1m3s\u001b[0m 29ms/step - accuracy: 1.0000 - loss: 3.2833e-04 - val_accuracy: 0.9982 - val_loss: 0.0103\n",
      "Epoch 49/50\n",
      "\u001b[1m104/104\u001b[0m \u001b[32m━━━━━━━━━━━━━━━━━━━━\u001b[0m\u001b[37m\u001b[0m \u001b[1m3s\u001b[0m 29ms/step - accuracy: 0.9993 - loss: 0.0068 - val_accuracy: 0.9988 - val_loss: 0.0036\n",
      "Epoch 50/50\n",
      "\u001b[1m104/104\u001b[0m \u001b[32m━━━━━━━━━━━━━━━━━━━━\u001b[0m\u001b[37m\u001b[0m \u001b[1m3s\u001b[0m 29ms/step - accuracy: 0.9999 - loss: 0.0010 - val_accuracy: 0.9994 - val_loss: 0.0026\n"
     ]
    }
   ],
   "source": [
    "# early_stopping = EarlyStopping(monitor='val_loss', patience=5, restore_best_weights=True) # Stop process once there is no improvement\n",
    "training = model.fit(X_train, y_train, epochs=50, batch_size=32, validation_split=0.5)"
   ]
  },
  {
   "cell_type": "code",
   "execution_count": 79,
   "id": "dadc05b9",
   "metadata": {},
   "outputs": [
    {
     "data": {
      "image/png": "[encoded data removed]",
      "text/plain": [
       "<Figure size 640x480 with 1 Axes>"
      ]
     },
     "metadata": {},
     "output_type": "display_data"
    },
    {
     "data": {
      "image/png": "[encoded data removed]",
      "text/plain": [
       "<Figure size 640x480 with 1 Axes>"
      ]
     },
     "metadata": {},
     "output_type": "display_data"
    }
   ],
   "source": [
    "# Plot learning curves\n",
    "plt.plot(history.history['loss'], label='Training Loss')\n",
    "plt.plot(history.history['val_loss'], label='Validation Loss')\n",
    "plt.xlabel('Epochs')\n",
    "plt.ylabel('Loss')\n",
    "plt.legend()\n",
    "plt.show()\n",
    "\n",
    "plt.plot(history.history['accuracy'], label='Training Accuracy')\n",
    "plt.plot(history.history['val_accuracy'], label='Validation Accuracy')\n",
    "plt.xlabel('Epochs')\n",
    "plt.ylabel('Accuracy')\n",
    "plt.legend()\n",
    "plt.show()"
   ]
  },
  {
   "cell_type": "code",
   "execution_count": 78,
   "id": "9eb8a1b1",
   "metadata": {},
   "outputs": [
    {
     "name": "stdout",
     "output_type": "stream",
     "text": [
      "\u001b[1m90/90\u001b[0m \u001b[32m━━━━━━━━━━━━━━━━━━━━\u001b[0m\u001b[37m\u001b[0m \u001b[1m1s\u001b[0m 7ms/step - accuracy: 0.9989 - loss: 0.0045\n",
      "Test Accuracy: 0.9989\n"
     ]
    }
   ],
   "source": [
    "# Evaluate the model\n",
    "test_loss, test_accuracy = model.evaluate(X_test, y_test)\n",
    "print(f'Test Accuracy: {test_accuracy:.4f}')"
   ]
  }
 ],
 "metadata": {
  "kernelspec": {
   "display_name": "Python 3 (ipykernel)",
   "language": "python",
   "name": "python3"
  },
  "language_info": {
   "codemirror_mode": {
    "name": "ipython",
    "version": 3
   },
   "file_extension": ".py",
   "mimetype": "text/x-python",
   "name": "python",
   "nbconvert_exporter": "python",
   "pygments_lexer": "ipython3",
   "version": "3.10.12"
  }
 },
 "nbformat": 4,
 "nbformat_minor": 5
}
